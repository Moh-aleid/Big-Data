{
  "nbformat": 4,
  "nbformat_minor": 0,
  "metadata": {
    "colab": {
      "provenance": [],
      "authorship_tag": "ABX9TyM3R3rw4+EK2ogWZ+vH4PPV",
      "include_colab_link": true
    },
    "kernelspec": {
      "name": "python3",
      "display_name": "Python 3"
    },
    "language_info": {
      "name": "python"
    }
  },
  "cells": [
    {
      "cell_type": "markdown",
      "metadata": {
        "id": "view-in-github",
        "colab_type": "text"
      },
      "source": [
        "<a href=\"https://colab.research.google.com/github/Moh-aleid/Big-Data/blob/main/TP1_scraping.ipynb\" target=\"_parent\"><img src=\"https://colab.research.google.com/assets/colab-badge.svg\" alt=\"Open In Colab\"/></a>"
      ]
    },
    {
      "cell_type": "code",
      "source": [
        "\n",
        "import requests\n",
        "from bs4 import BeautifulSoup\n",
        "import pandas as pd\n",
        "import csv\n",
        "\n",
        "def fetch_webpage(url):\n",
        "    \"\"\"Fetch the content of a web page and return the HTML source code\"\"\"\n",
        "    try:\n",
        "        response = requests.get(url)\n",
        "        response.raise_for_status()  # Raise an exception for HTTP errors\n",
        "        return response.text\n",
        "    except requests.exceptions.RequestException as e:\n",
        "        print(f\"Error fetching the webpage: {e}\")\n",
        "        return None\n",
        "\n",
        "def extract_quotes(html_content):\n",
        "    \"\"\"Extract all quotes from the HTML content using BeautifulSoup\"\"\"\n",
        "    if not html_content:\n",
        "        return []\n",
        "\n",
        "    soup = BeautifulSoup(html_content, 'html.parser')\n",
        "\n",
        "    # Find all quote containers\n",
        "    quotes = []\n",
        "\n",
        "    # For books.toscrape.com, we'll extract book information instead of quotes\n",
        "    # since the site doesn't have quotes but has book data\n",
        "    books = soup.find_all('article', class_='product_pod')\n",
        "\n",
        "    for book in books:\n",
        "        title = book.h3.a['title']\n",
        "        price = book.find('p', class_='price_color').text\n",
        "        stock = book.find('p', class_='instock availability').text.strip()\n",
        "\n",
        "        quotes.append({\n",
        "            'title': title,\n",
        "            'price': price,\n",
        "            'stock': stock\n",
        "        })\n",
        "\n",
        "    return quotes\n",
        "\n",
        "def save_to_csv(data, filename='books_data.csv'):\n",
        "    \"\"\"Save the extracted data to a CSV file using pandas\"\"\"\n",
        "    if not data:\n",
        "        print(\"No data to save\")\n",
        "        return\n",
        "\n",
        "    df = pd.DataFrame(data)\n",
        "    df.to_csv(filename, index=False)\n",
        "    print(f\"Data saved to {filename}\")\n",
        "\n",
        "# Set the URL to scrape\n",
        "url = \"https://books.toscrape.com\"\n",
        "\n",
        "# Question 1: Fetch and display HTML source code\n",
        "print(\"Fetching webpage content...\")\n",
        "html_content = fetch_webpage(url)\n",
        "\n",
        "if html_content:\n",
        "    print(\"\\n--- HTML Source Code (first 500 characters) ---\")\n",
        "    print(html_content[:500] + \"...\")\n",
        "\n",
        "    # Question 2: Extract information using BeautifulSoup\n",
        "    print(\"\\n--- Extracting book information ---\")\n",
        "    books_data = extract_quotes(html_content)\n",
        "\n",
        "    # Display some of the extracted data\n",
        "    print(f\"\\nFound {len(books_data)} books\")\n",
        "    if books_data:\n",
        "        print(\"\\nFirst 3 books:\")\n",
        "        for i, book in enumerate(books_data[:3], 1):\n",
        "            print(f\"{i}. Title: {book['title']}\")\n",
        "            print(f\"   Price: {book['price']}\")\n",
        "            print(f\"   Stock: {book['stock']}\")\n",
        "\n",
        "    # Question 3: Save to CSV using pandas\n",
        "    print(\"\\n--- Saving data to CSV ---\")\n",
        "    save_to_csv(books_data)"
      ],
      "metadata": {
        "id": "tSWGx6oAGAEM",
        "outputId": "86c52276-47a6-458c-e219-97b187b4cdfe",
        "colab": {
          "base_uri": "https://localhost:8080/"
        }
      },
      "execution_count": 1,
      "outputs": [
        {
          "output_type": "stream",
          "name": "stdout",
          "text": [
            "Fetching webpage content...\n",
            "\n",
            "--- HTML Source Code (first 500 characters) ---\n",
            "<!DOCTYPE html>\n",
            "<!--[if lt IE 7]>      <html lang=\"en-us\" class=\"no-js lt-ie9 lt-ie8 lt-ie7\"> <![endif]-->\n",
            "<!--[if IE 7]>         <html lang=\"en-us\" class=\"no-js lt-ie9 lt-ie8\"> <![endif]-->\n",
            "<!--[if IE 8]>         <html lang=\"en-us\" class=\"no-js lt-ie9\"> <![endif]-->\n",
            "<!--[if gt IE 8]><!--> <html lang=\"en-us\" class=\"no-js\"> <!--<![endif]-->\n",
            "    <head>\n",
            "        <title>\n",
            "    All products | Books to Scrape - Sandbox\n",
            "</title>\n",
            "\n",
            "        <meta http-equiv=\"content-type\" content=\"text/html; charset=UTF-8\" /...\n",
            "\n",
            "--- Extracting book information ---\n",
            "\n",
            "Found 20 books\n",
            "\n",
            "First 3 books:\n",
            "1. Title: A Light in the Attic\n",
            "   Price: Â£51.77\n",
            "   Stock: In stock\n",
            "2. Title: Tipping the Velvet\n",
            "   Price: Â£53.74\n",
            "   Stock: In stock\n",
            "3. Title: Soumission\n",
            "   Price: Â£50.10\n",
            "   Stock: In stock\n",
            "\n",
            "--- Saving data to CSV ---\n",
            "Data saved to books_data.csv\n"
          ]
        }
      ]
    }
  ]
}